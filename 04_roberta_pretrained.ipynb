{
 "cells": [
  {
   "cell_type": "markdown",
   "metadata": {},
   "source": [
    "# RoBERTa Classifier with Language Model Pretraining"
   ]
  },
  {
   "cell_type": "markdown",
   "metadata": {},
   "source": [
    "In this notebook we will train a RoBERTa classifier for the proxy task using the pretrained target language model for initialization.  The language model is trained in 04_roberta_lm.ipynb.\n",
    "\n",
    "This notebook is adapted from [this](https://towardsdatascience.com/fastai-with-transformers-bert-roberta-xlnet-xlm-distilbert-4f41ee18ecb2) blog post."
   ]
  },
  {
   "cell_type": "code",
   "execution_count": 1,
   "metadata": {},
   "outputs": [],
   "source": [
    "%matplotlib inline\n",
    "%load_ext autoreload\n",
    "%autoreload 2"
   ]
  },
  {
   "cell_type": "code",
   "execution_count": 2,
   "metadata": {},
   "outputs": [],
   "source": [
    "# import numpy as np # linear algebra\n",
    "# import pandas as pd # data processing, CSV file I/O (e.g. pd.read_csv)\n",
    "# from pathlib import Path \n",
    "# import os\n",
    "# import torch\n",
    "# import torch.optim as optim\n",
    "# import random \n",
    "\n",
    "# # fastai\n",
    "from fastai import *\n",
    "from fastai.text import *\n",
    "# from fastai.callbacks import *\n",
    "\n",
    "# # transformers\n",
    "# from transformers import PreTrainedModel, PreTrainedTokenizer, PretrainedConfig\n",
    "from transformers import RobertaForSequenceClassification, RobertaConfig\n",
    "\n",
    "import eval_models\n",
    "from train_utils import *"
   ]
  },
  {
   "cell_type": "code",
   "execution_count": 3,
   "metadata": {},
   "outputs": [
    {
     "name": "stdout",
     "output_type": "stream",
     "text": [
      "fastai version : 1.0.59\n",
      "transformers version : 2.4.1\n",
      "tokenizers version : 0.4.2\n"
     ]
    }
   ],
   "source": [
    "import fastai\n",
    "import transformers\n",
    "import tokenizers\n",
    "print('fastai version :', fastai.__version__)\n",
    "print('transformers version :', transformers.__version__)\n",
    "print('tokenizers version :', tokenizers.__version__)"
   ]
  },
  {
   "cell_type": "code",
   "execution_count": 4,
   "metadata": {},
   "outputs": [],
   "source": [
    "# Parameters\n",
    "seed = 42\n",
    "use_fp16 = False\n",
    "#bs = 16"
   ]
  },
  {
   "cell_type": "code",
   "execution_count": 5,
   "metadata": {},
   "outputs": [],
   "source": [
    "model_class, config_class = RobertaForSequenceClassification, RobertaConfig"
   ]
  },
  {
   "cell_type": "code",
   "execution_count": 6,
   "metadata": {},
   "outputs": [],
   "source": [
    "# def seed_all(seed_value):\n",
    "#     random.seed(seed_value) # Python\n",
    "#     np.random.seed(seed_value) # cpu vars\n",
    "#     torch.manual_seed(seed_value) # cpu  vars\n",
    "    \n",
    "#     if torch.cuda.is_available(): \n",
    "#         torch.cuda.manual_seed(seed_value)\n",
    "#         torch.cuda.manual_seed_all(seed_value) # gpu vars\n",
    "#         torch.backends.cudnn.deterministic = True  #needed\n",
    "#         torch.backends.cudnn.benchmark = False"
   ]
  },
  {
   "cell_type": "code",
   "execution_count": 7,
   "metadata": {},
   "outputs": [],
   "source": [
    "# seed_all(seed)"
   ]
  },
  {
   "cell_type": "markdown",
   "metadata": {},
   "source": [
    "### Data Pre-processing"
   ]
  },
  {
   "cell_type": "code",
   "execution_count": 8,
   "metadata": {},
   "outputs": [],
   "source": [
    "#from tokenizers.implementations import CharBPETokenizer\n",
    "#from tokenizers.processors import BertProcessing"
   ]
  },
  {
   "cell_type": "code",
   "execution_count": null,
   "metadata": {},
   "outputs": [],
   "source": [
    "# tok_path = '/home/tjtsai/.fastai/data/bscore_lm/bpe_data/tokenizer_target'\n",
    "# tokenizer = CharBPETokenizer(f\"{tok_path}/vocab.json\", f\"{tok_path}/merges.txt\")\n",
    "# tokenizer._tokenizer.post_processor = BertProcessing(\n",
    "#     (\"</s>\", tokenizer.token_to_id(\"</s>\")),\n",
    "#     (\"<s>\", tokenizer.token_to_id(\"<s>\")),\n",
    "# )\n",
    "# tokenizer.enable_truncation(max_length=256)"
   ]
  },
  {
   "cell_type": "code",
   "execution_count": null,
   "metadata": {},
   "outputs": [],
   "source": [
    "# output = tokenizer.encode(\"一一丈一丂一一一 一一丁一一丁一一 一一丄一一一一一 一一丐一亀一一一 一一丈一一一一一 一一丄一一丁一一 一一丂一一一一一\")"
   ]
  },
  {
   "cell_type": "code",
   "execution_count": null,
   "metadata": {},
   "outputs": [],
   "source": [
    "# output.tokens"
   ]
  },
  {
   "cell_type": "code",
   "execution_count": 9,
   "metadata": {},
   "outputs": [],
   "source": [
    "# class TransformersBaseTokenizer(BaseTokenizer):\n",
    "#     \"\"\"Wrapper around PreTrainedTokenizer to be compatible with fast.ai\"\"\"\n",
    "#     def __init__(self, tok_dir, max_seq_len, **kwargs):\n",
    "        \n",
    "#         tokenizer = CharBPETokenizer(f\"{tok_dir}/vocab.json\", f\"{tok_dir}/merges.txt\")\n",
    "#         tokenizer._tokenizer.post_processor = BertProcessing(\n",
    "#             (\"</s>\", tokenizer.token_to_id(\"</s>\")),\n",
    "#             (\"<s>\", tokenizer.token_to_id(\"<s>\")),\n",
    "#         )\n",
    "#         tokenizer.enable_truncation(max_length=max_seq_len)\n",
    "\n",
    "#         self._pretrained_tokenizer = tokenizer\n",
    "#         self.max_seq_len = max_seq_len\n",
    "\n",
    "#     def __call__(self, *args, **kwargs): \n",
    "#         return self\n",
    "\n",
    "#     def tokenizer(self, t:str) -> List[str]:\n",
    "#         \"\"\"Limits the maximum sequence length and add the special tokens\"\"\"\n",
    "#         output = self._pretrained_tokenizer.encode(t)\n",
    "#         return output.tokens"
   ]
  },
  {
   "cell_type": "code",
   "execution_count": 10,
   "metadata": {},
   "outputs": [],
   "source": [
    "# class CustomTokenizer():\n",
    "#     '''Wrapper for TransformersBaseTokenizer tokenizer to fit into fast.ai'''\n",
    "#     def __init__(self,tok_func:Callable, model_prefix:str, max_seq_len:int):\n",
    "#         self.tok_func, self.model_prefix, self.max_seq_len = tok_func, model_prefix, max_seq_len\n",
    "        \n",
    "#     def __repr__(self) -> str:\n",
    "#         res = f'Tokenizer {self.tok_func.__name__} using `{self.model_prefix}` model\\n'\n",
    "#         return res\n",
    "\n",
    "#     def process_text(self, t:str, tok:BaseTokenizer) -> List[str]:\n",
    "#         \"Process one text `t` with tokenizer `tok`.\"\n",
    "#         toks = tok.tokenizer(t)\n",
    "#         return toks \n",
    "    \n",
    "#     def _process_all_1(self,texts:Collection[str]) -> List[List[str]]:\n",
    "#         'Process a list of `texts` in one process'\n",
    "#         tok = self.tok_func(self.model_prefix, self.max_seq_len)\n",
    "#         return [self.process_text(t, tok) for t in texts]\n",
    "                                                                     \n",
    "#     def process_all(self, texts:Collection[str]) -> List[List[str]]: \n",
    "#         \"Process a list of `texts`.\"                                 \n",
    "#         return self._process_all_1(texts)"
   ]
  },
  {
   "cell_type": "code",
   "execution_count": 6,
   "metadata": {},
   "outputs": [],
   "source": [
    "tok_model_dir = '/home/tjtsai/.fastai/data/bscore_lm/bpe_data/tokenizer_target'\n",
    "max_seq_len = 256\n",
    "cust_tok = CustomTokenizer(TransformersBaseTokenizer, tok_model_dir, max_seq_len)"
   ]
  },
  {
   "cell_type": "code",
   "execution_count": 12,
   "metadata": {},
   "outputs": [],
   "source": [
    "# class TransformersVocab(Vocab):\n",
    "#     def __init__(self, tokenizer: PreTrainedTokenizer):\n",
    "#         super(TransformersVocab, self).__init__(itos = [])\n",
    "#         self.tokenizer = tokenizer\n",
    "    \n",
    "#     def numericalize(self, t:Collection[str]) -> List[int]:\n",
    "#         \"Convert a list of tokens `t` to their ids.\"\n",
    "#         return [self.tokenizer.token_to_id(tok) for tok in t]\n",
    "\n",
    "#     def textify(self, nums:Collection[int], sep=' ') -> List[str]:\n",
    "#         \"Convert a list of `nums` to their tokens.\"\n",
    "#         nums = np.array(nums).tolist()\n",
    "#         strings = [self.tokenizer.id_to_token(num) for num in nums]\n",
    "#         if sep is None:\n",
    "#             sep = ''\n",
    "#         return sep.join(strings)\n",
    "    \n",
    "#     def __getstate__(self):\n",
    "#         return {'itos':self.itos, 'tokenizer':self.tokenizer}\n",
    "\n",
    "#     def __setstate__(self, state:dict):\n",
    "#         self.itos = state['itos']\n",
    "#         self.tokenizer = state['tokenizer']\n",
    "#         self.stoi = collections.defaultdict(int,{v:k for k,v in enumerate(self.itos)})"
   ]
  },
  {
   "cell_type": "code",
   "execution_count": 7,
   "metadata": {},
   "outputs": [],
   "source": [
    "transformer_base_tokenizer = TransformersBaseTokenizer(tok_model_dir, max_seq_len)\n",
    "transformer_vocab =  TransformersVocab(tokenizer = transformer_base_tokenizer._pretrained_tokenizer)"
   ]
  },
  {
   "cell_type": "code",
   "execution_count": 8,
   "metadata": {},
   "outputs": [],
   "source": [
    "pad_idx = transformer_base_tokenizer._pretrained_tokenizer.token_to_id('<pad>')"
   ]
  },
  {
   "cell_type": "markdown",
   "metadata": {},
   "source": [
    "### Finetune classifier"
   ]
  },
  {
   "cell_type": "code",
   "execution_count": 9,
   "metadata": {},
   "outputs": [],
   "source": [
    "bs = 128"
   ]
  },
  {
   "cell_type": "code",
   "execution_count": 10,
   "metadata": {},
   "outputs": [],
   "source": [
    "bpe_path = Path('/home/tjtsai/.fastai/data/bscore_lm/bpe_data')"
   ]
  },
  {
   "cell_type": "code",
   "execution_count": 11,
   "metadata": {},
   "outputs": [],
   "source": [
    "train_df = pd.read_csv(bpe_path/'train64.char.csv')\n",
    "valid_df = pd.read_csv(bpe_path/'valid64.char.csv')\n",
    "test_df = pd.read_csv(bpe_path/'test64.char.csv')"
   ]
  },
  {
   "cell_type": "code",
   "execution_count": 12,
   "metadata": {},
   "outputs": [
    {
     "data": {
      "text/html": [],
      "text/plain": [
       "<IPython.core.display.HTML object>"
      ]
     },
     "metadata": {},
     "output_type": "display_data"
    },
    {
     "data": {
      "text/html": [],
      "text/plain": [
       "<IPython.core.display.HTML object>"
      ]
     },
     "metadata": {},
     "output_type": "display_data"
    }
   ],
   "source": [
    "data_clas = TextDataBunch.from_df(bpe_path, train_df, valid_df, tokenizer=cust_tok, vocab=transformer_vocab,\n",
    "                                  include_bos=False, include_eos=False, pad_first=False, pad_idx=pad_idx, \n",
    "                                  bs=bs, num_workers=1)"
   ]
  },
  {
   "cell_type": "code",
   "execution_count": 20,
   "metadata": {},
   "outputs": [],
   "source": [
    "# class CustomTransformerModel(nn.Module):\n",
    "#     def __init__(self, transformer_model: PreTrainedModel):\n",
    "#         super(CustomTransformerModel,self).__init__()\n",
    "#         self.transformer = transformer_model\n",
    "        \n",
    "#     def forward(self, input_ids, attention_mask=None):\n",
    "        \n",
    "#         # attention_mask\n",
    "#         # Mask to avoid performing attention on padding token indices.\n",
    "#         # Mask values selected in ``[0, 1]``:\n",
    "#         # ``1`` for tokens that are NOT MASKED, ``0`` for MASKED tokens.\n",
    "#         attention_mask = (input_ids!=pad_idx).type(input_ids.type()) \n",
    "#         logits = self.transformer(input_ids, attention_mask = attention_mask)[0]   \n",
    "#         return logits\n",
    "    \n",
    "#     def reset(self): pass"
   ]
  },
  {
   "cell_type": "code",
   "execution_count": 15,
   "metadata": {},
   "outputs": [
    {
     "name": "stdout",
     "output_type": "stream",
     "text": [
      "RobertaConfig {\n",
      "  \"architectures\": [\n",
      "    \"RobertaForMaskedLM\"\n",
      "  ],\n",
      "  \"attention_probs_dropout_prob\": 0.1,\n",
      "  \"bos_token_id\": 0,\n",
      "  \"do_sample\": false,\n",
      "  \"eos_token_ids\": 0,\n",
      "  \"finetuning_task\": null,\n",
      "  \"hidden_act\": \"gelu\",\n",
      "  \"hidden_dropout_prob\": 0.1,\n",
      "  \"hidden_size\": 768,\n",
      "  \"id2label\": {\n",
      "    \"0\": \"LABEL_0\",\n",
      "    \"1\": \"LABEL_1\"\n",
      "  },\n",
      "  \"initializer_range\": 0.02,\n",
      "  \"intermediate_size\": 3072,\n",
      "  \"is_decoder\": false,\n",
      "  \"label2id\": {\n",
      "    \"LABEL_0\": 0,\n",
      "    \"LABEL_1\": 1\n",
      "  },\n",
      "  \"layer_norm_eps\": 1e-05,\n",
      "  \"length_penalty\": 1.0,\n",
      "  \"max_length\": 20,\n",
      "  \"max_position_embeddings\": 514,\n",
      "  \"model_type\": \"roberta\",\n",
      "  \"num_attention_heads\": 12,\n",
      "  \"num_beams\": 1,\n",
      "  \"num_hidden_layers\": 6,\n",
      "  \"num_labels\": 9,\n",
      "  \"num_return_sequences\": 1,\n",
      "  \"output_attentions\": false,\n",
      "  \"output_hidden_states\": false,\n",
      "  \"output_past\": true,\n",
      "  \"pad_token_id\": 0,\n",
      "  \"pruned_heads\": {},\n",
      "  \"repetition_penalty\": 1.0,\n",
      "  \"temperature\": 1.0,\n",
      "  \"top_k\": 50,\n",
      "  \"top_p\": 1.0,\n",
      "  \"torchscript\": false,\n",
      "  \"type_vocab_size\": 1,\n",
      "  \"use_bfloat16\": false,\n",
      "  \"vocab_size\": 30000\n",
      "}\n",
      "\n"
     ]
    }
   ],
   "source": [
    "roberta_model_path = '/home/tjtsai/.fastai/data/bscore_lm/bpe_data/models/roberta_train-target_lm'\n",
    "config = config_class.from_pretrained(roberta_model_path)\n",
    "config.num_labels = data_clas.c\n",
    "print(config)"
   ]
  },
  {
   "cell_type": "code",
   "execution_count": 16,
   "metadata": {},
   "outputs": [],
   "source": [
    "transformer_model = model_class.from_pretrained(roberta_model_path, config = config)\n",
    "custom_transformer_model = RobertaModelWrapper(transformer_model, pad_idx)"
   ]
  },
  {
   "cell_type": "code",
   "execution_count": 27,
   "metadata": {},
   "outputs": [],
   "source": [
    "learner = Learner(data_clas, custom_transformer_model, metrics=[accuracy])"
   ]
  },
  {
   "cell_type": "code",
   "execution_count": 18,
   "metadata": {},
   "outputs": [],
   "source": [
    "#print(learner.model)"
   ]
  },
  {
   "cell_type": "code",
   "execution_count": 28,
   "metadata": {},
   "outputs": [],
   "source": [
    "list_layers = [learner.model.transformer.roberta.embeddings,\n",
    "              learner.model.transformer.roberta.encoder.layer[0],\n",
    "              learner.model.transformer.roberta.encoder.layer[1],\n",
    "              learner.model.transformer.roberta.encoder.layer[2],\n",
    "              learner.model.transformer.roberta.encoder.layer[3],\n",
    "              learner.model.transformer.roberta.encoder.layer[4],\n",
    "              learner.model.transformer.roberta.encoder.layer[5],\n",
    "              learner.model.transformer.roberta.pooler]"
   ]
  },
  {
   "cell_type": "code",
   "execution_count": 29,
   "metadata": {},
   "outputs": [
    {
     "name": "stdout",
     "output_type": "stream",
     "text": [
      "Learner split in 8 groups\n"
     ]
    }
   ],
   "source": [
    "learner.split(list_layers)\n",
    "num_groups = len(learner.layer_groups)\n",
    "print('Learner split in',num_groups,'groups')\n",
    "#print(learner.layer_groups)"
   ]
  },
  {
   "cell_type": "code",
   "execution_count": 61,
   "metadata": {},
   "outputs": [],
   "source": [
    "#learner.save('roberta_0')"
   ]
  },
  {
   "cell_type": "code",
   "execution_count": 30,
   "metadata": {},
   "outputs": [],
   "source": [
    "seed_all(seed)\n",
    "#learner.load('roberta_0');"
   ]
  },
  {
   "cell_type": "code",
   "execution_count": 31,
   "metadata": {},
   "outputs": [],
   "source": [
    "learner.freeze_to(-1)"
   ]
  },
  {
   "cell_type": "code",
   "execution_count": null,
   "metadata": {},
   "outputs": [],
   "source": [
    "#learner.summary()"
   ]
  },
  {
   "cell_type": "code",
   "execution_count": 32,
   "metadata": {},
   "outputs": [
    {
     "data": {
      "text/html": [],
      "text/plain": [
       "<IPython.core.display.HTML object>"
      ]
     },
     "metadata": {},
     "output_type": "display_data"
    },
    {
     "name": "stdout",
     "output_type": "stream",
     "text": [
      "LR Finder is complete, type {learner_name}.recorder.plot() to see the graph.\n"
     ]
    }
   ],
   "source": [
    "learner.lr_find()"
   ]
  },
  {
   "cell_type": "code",
   "execution_count": 33,
   "metadata": {},
   "outputs": [
    {
     "name": "stdout",
     "output_type": "stream",
     "text": [
      "Min numerical gradient: 1.20E-03\n",
      "Min loss divided by 10: 9.12E-04\n"
     ]
    },
    {
     "data": {
      "image/png": "[encoded data removed]",
      "text/plain": [
       "<Figure size 432x288 with 1 Axes>"
      ]
     },
     "metadata": {
      "needs_background": "light"
     },
     "output_type": "display_data"
    }
   ],
   "source": [
    "learner.recorder.plot(suggestion=True)"
   ]
  },
  {
   "cell_type": "code",
   "execution_count": 34,
   "metadata": {},
   "outputs": [],
   "source": [
    "lr = 3e-4"
   ]
  },
  {
   "cell_type": "code",
   "execution_count": 35,
   "metadata": {},
   "outputs": [
    {
     "data": {
      "text/html": [
       "<table border=\"1\" class=\"dataframe\">\n",
       "  <thead>\n",
       "    <tr style=\"text-align: left;\">\n",
       "      <th>epoch</th>\n",
       "      <th>train_loss</th>\n",
       "      <th>valid_loss</th>\n",
       "      <th>accuracy</th>\n",
       "      <th>time</th>\n",
       "    </tr>\n",
       "  </thead>\n",
       "  <tbody>\n",
       "    <tr>\n",
       "      <td>0</td>\n",
       "      <td>1.665569</td>\n",
       "      <td>1.636756</td>\n",
       "      <td>0.397963</td>\n",
       "      <td>00:49</td>\n",
       "    </tr>\n",
       "  </tbody>\n",
       "</table>"
      ],
      "text/plain": [
       "<IPython.core.display.HTML object>"
      ]
     },
     "metadata": {},
     "output_type": "display_data"
    }
   ],
   "source": [
    "learner.fit_one_cycle(1, lr, moms=(0.8,0.7))"
   ]
  },
  {
   "cell_type": "code",
   "execution_count": null,
   "metadata": {},
   "outputs": [],
   "source": [
    "learner.fit_one_cycle(1, lr, moms=(0.8,0.7))"
   ]
  },
  {
   "cell_type": "code",
   "execution_count": null,
   "metadata": {},
   "outputs": [],
   "source": [
    "learner.fit_one_cycle(5, lr, moms=(0.8,0.7))"
   ]
  },
  {
   "cell_type": "code",
   "execution_count": null,
   "metadata": {},
   "outputs": [],
   "source": [
    "learner.freeze_to(-2)\n",
    "learner.fit_one_cycle(2, slice(lr/(2.6**4),lr), moms=(0.8, 0.9))"
   ]
  },
  {
   "cell_type": "code",
   "execution_count": null,
   "metadata": {},
   "outputs": [],
   "source": [
    "learner.fit_one_cycle(2, slice(lr/(2.6**4),lr), moms=(0.8, 0.9))"
   ]
  },
  {
   "cell_type": "code",
   "execution_count": null,
   "metadata": {},
   "outputs": [],
   "source": [
    "learner.freeze_to(-3)\n",
    "learner.fit_one_cycle(2, slice(lr/2/(2.6**4),lr/2), moms=(0.8, 0.9))"
   ]
  },
  {
   "cell_type": "code",
   "execution_count": null,
   "metadata": {},
   "outputs": [],
   "source": [
    "learner.fit_one_cycle(2, slice(lr/2/(2.6**4),lr/2), moms=(0.8, 0.9))"
   ]
  },
  {
   "cell_type": "code",
   "execution_count": null,
   "metadata": {},
   "outputs": [],
   "source": [
    "learner.unfreeze()\n",
    "learner.fit_one_cycle(1, slice(lr/10/(2.6**4),lr/10), moms=(0.8, 0.9))"
   ]
  },
  {
   "cell_type": "code",
   "execution_count": 63,
   "metadata": {},
   "outputs": [
    {
     "data": {
      "text/plain": [
       "Learner(data=TextClasDataBunch;\n",
       "\n",
       "Train: LabelList (32400 items)\n",
       "x: TextList\n",
       "<s> 一一一一一丂一一</w> 一一乀一一丈一一</w> 一一一一一丈一一</w> 一一丐一一丈丄一</w> 一一一一一一丁一</w> 一一亀一一一一一</w> 一一一一丈一一一</w> 一一一一丠一一一</w> 一一一一一丁一一</w> 一一丠一一丄一一</w> 一一一一一丄一一</w> 一一丈一一丈一一</w> 一一一一一丁一一</w> 一一丐一一丁一一</w> 一一一一亀一一一</w> 一一丂一一丂一一</w> 一一丁一丐一一一</w> 一亀一一丠一一一</w> 一乀一一一一一一</w> 一丠一一一一一一</w> 一丐一一一一一一</w> 一丈一一一一一一</w> 一一一一丠一一一</w> 一一一一一丁一一</w> 一一一一一丄一一</w> 一一丄一一丐一一</w> 一一一一一丐一一</w> 一一丁一一丐一一</w> 一一一一一乀一一</w> 一一丂一亀一一一</w> 一一一一丐一一一</w> 一一一一亀一一一</w> 一一一丁一丈一一</w> 一一一一一丈一一</w> 一一乀一一一一一</w> 一一一一一一丁一</w> 一一一一一丅一一</w> 一一一一乀一一一</w> 一一亀一一一一一</w> 一一一一一丄一一</w> 一一一一一丐一一</w> 一一一一一亀一一</w> 一一丄一一一一一</w> 一一一一一丁一一</w> 一一一一一丄一一</w> 一一一一一丐一一</w> 一一丐一一一一一</w> 一一一一一丈一一</w> 一一一一一丂一一</w> 一一一一亀一一一</w> 一一一一丨丁一一</w> 一一丁一一一一一</w> 一一丄一一一一一</w> 一一丐一一一一一</w> 一一亀一一一一一</w> 一一亀一一一一一</w> 一一亀一一一一一</w> 一丠一一一一一一</w> 一亀一一一一一一</w> 一一丂一一一一一</w> 一一丐一一一一一</w> 一一丐一一一一一</w> 一一丐一一丁一一</w> 一一一一亀一一一</w> </s>,<s> 一一丄一亀丂一一</w> 一一丈一一一一一</w> 一一丄一一一一一</w> 乀一一一一一一一</w> 一乀一一一一一一</w> 一一丄一一丅一一</w> 一一丈一一一一一</w> 一一丄一一一一一</w> 一一亀一一且一一</w> 一一丄一一一一一</w> 一一丈一一丅一一</w> 丐一丄一一一一一</w> 一丠一一一丅一一</w> 一一丄一亀丂一一</w> 一一丈一一一一一</w> 一一丄一一一一一</w> 一一一丁一一一一</w> 一一丄一亀丂一一</w> 一一丈一一一一一</w> 丐一丄一一一一一</w> 一丠一一予一一一</w> 一一丄一一一一一</w> 一一丈一一一一一</w> 一一丄一一一一一</w> 一一一丁乀丁一一</w> 一一丄一予一一一</w> 一一丈一一一一一</w> 乀一丄一一一一一</w> 一一丐丁丢一一一</w> 一一丈一丂一一一</w> 一一一一一乀一一</w> 一亀丄一一丄一一</w> 一乀一一一一一一</w> 一一一一亀丂一一</w> 一乀一一乂一一一</w> 一一丄一一一一一</w> 一一丈一一一一一</w> 一一丄一一一一一</w> 一一亀一予一一一</w> 一一丄一丠一一一</w> 一一丈一乀丁一一</w> 丠一丄一一一一一</w> 一亀一一乀丂一一</w> 一一乀一乀丄一一</w> 一一亀一一一一一</w> 一一乀一一一一一</w> 一一一丁乀丈一一</w> 一一乀一乀丐一一</w> 一一亀一一一一一</w> 一一乀一一一一一</w> 一丁一一一一一一</w> 一一丄一亠一一一</w> 一一乀一一一一一</w> 一一亀一一一一一</w> 一一乀一一一一一</w> 一一一丂一一一一</w> 一一乀一亠一一一</w> 一一亀一一一一一</w> 一一乀一一一一一</w> 一乀一一丠丁一一</w> 一一一一一丁一一</w> 一一丠一丠丂一一</w> 一一乀一一一一一</w> 一一丠一一一一一</w> </s>,<s> 一一一一丠一一一</w> 一丂一一一一一一</w> 一丁一一两一一一</w> 一一一一么一一一</w> 一一丈一乂丁一一</w> 一一上一一丄一一</w> 一一一一丄一一一</w> 丐丈一一亢一一一</w> 一一丄一一丁一一</w> 丠丐一一乔一一一</w> 一一丄一一丁一一</w> 乀丠一一丩一一一</w> 一亀一一丠丁一一</w> 亠乐一一一一一一</w> 乀丠一一一一一一</w> 亀乀一一一一一一</w> 一一一一一丂一一</w> 丈丄一一一么丁一</w> 一一丄一一丁一一</w> 一一一一一丐一一</w> 丐丈一一一交一一</w> 一一丂一一丁一一</w> 丠丐一一一乊一一</w> 一乀丁 一丠丁一一</w> 丐一一一 丌一一一</w> 丠一一一一両一一</w> 乀丠一一亀且一一</w> 一丠丁一一一一一</w> 丠一一一亄丂一一</w> 丐丈一乀丂一一一</w> 一一丄一一丁一一</w> 丈 亀一乀 丅一一一</w> 一一丂一亀一一一</w> 丄丂一乀上一一一</w> 一亀丄一丠一一一</w> 一亁一一上一一一</w> 亀乀一一世一一一</w> 一亀丂一亠一一一</w> 一一一一丨一一一</w> 亀乀一一世一一一</w> 乀丠一一个一一一</w> 一一丄一一丁一一</w> 一丠丐一严一一一</w> 一一丄一亀一一一</w> 一亀一一一一一一</w> 一一亐一义一一一</w> 一一丈一乂丂一一</w> 一一一一一丄一一</w> 一乀丈一丒一一一</w> 一丠丐一上一一一</w> 一一一一丄一一一</w> 一一丐一丈一一一</w> 一一三一丐一一一</w> 一一丄一丠一一一</w> 一丐一一乂一一一</w> 一丠一一両一一一</w> 一一一一丂一一一</w> 一亀一一一一一一</w> 一乀丈一丒一一一</w> 一丠丐一上一一一</w> 一一一一丄一一一</w> 一一丒一丈一一一</w> 一一三一丐一一一</w> 一一丄一丠一一一</w> </s>,<s> 一一丁一一一一一</w> 一亀一一一一一一</w> 一一丠一一一一一</w> 一一丄一一一一一</w> 一一丁一一一一一</w> 丠一一一丈一一一</w> 一丄一一丄一一一</w> 一一一亀一一一一</w> 乀一一一亥一一一</w> 一一一一一丁一一</w> 一一一乀一丐一一</w> 一一一一丠一一一</w> 一一一一丄一一一</w> 一一一一丁一一一</w> 一一一丠一丈一一</w> 一一一一丐一一一</w> 一一一一丄一一一</w> 一一一一丁一一一</w> 一一一乀一丐一一</w> 一一一一丠一一一</w> 一一一一丄一一一</w> 一一一一丁一一一</w> 一一一一丂亀一一</w> 一一一一一丁一一</w> 一一一一丠一一一</w> 一一一一丈一一一</w> 一一一一丁乀一一</w> 一一一一亠一一一</w> 一一一一丈一一一</w> 一一一亀一丠一一</w> 一一一一乀一一一</w> 一一一一丈一一一</w> 一一一一丂一一一</w> 一一一乀一一一一</w> 一一一一丠一一一</w> 一一一一丈丐一一</w> 一一一一丂一一一</w> 一丠一一一丐一一</w> 一一一一丠一一一</w> 一一一一丂一一一</w> 一一一亀一一一一</w> 一一一丠一丈一一</w> 一一一一丐一一一</w> 一一一一丂一一一</w> 一一一亀一一一一</w> 一一丄一一丄一一</w> 一一一一丈一一一</w> 一一一一丂一一一</w> 一一一亀一一一一</w> 一一丈一一丈一一</w> 一一一一丐一一一</w> 一一一一丂一一一</w> 一一一亀一一一一</w> 一一三一亂丂一一</w> 一一丈一亀一一一</w> 一一一亀一一一一</w> 一一一一乀一一一</w> 一一一一丂一一一</w> 一一一亀一一一一</w> 一一丈一一一一一</w> 一一一一丐一一一</w> 一一一一丂一一一</w> 一一一亀一一一一</w> 一一丂一一一一一</w> </s>,<s> 一一丠丂一一一一</w> 一一丈一什丂一一</w> 一一丄一一丈一一</w> 一一一一亀一一一</w> 一一一一丠一一一</w> 一一丂一一一一一</w> 丐丐一一一一一一</w> 一丐丈一一一一一</w> 一乀丠一一一一一</w> 一一亁一一一一一</w> 一一丄一一一一一</w> 丠丐 一一亀乄一一</w> 一丐丈一一一一一</w> 一乀丠一一一一一</w> 一一亁一一一一一</w> 一一丄丂一一一一</w> 一一一一乀两一一</w> 一一一一一丈一一</w> 乀丠一一丠且一一</w> 一一且丅一一一一</w> 一一五丄一一一一</w> 一一且丅 一亥一一</w> 一一且丅一一一一</w> 一一五丄一一一一</w> 一一五 丄一 亜 丄一</w> 一一五丄一一一一</w> 一一且丅一一一一</w> 一一且丅 一亀世 一</w> 一一且丅一一一一</w> 一一五丄一一一一</w> 乀丠 一一一亠 且一</w> 一一亠丄一一一一</w> 一一亠丄一一一一</w> 一一亠丄一一一一</w> 一一一一一丂一一</w> 一一丁一一丐一一</w> 乀一一一一 亊一一</w> 一一一一一乀一一</w> 一丢丁一一严一一</w> 一丠丐一一一一一</w> 一丠丐一一一一一</w> 一丄丂一一一一一</w> 乀丠一一一一一一</w> 丈丂 一一丂一一一</w> 一一一一乀一一一</w> 一一一一乀丂一一</w> 一一丈一一一一一</w> 一一丈一一一一一</w> 一亀丒一一一一一</w> 丈丄 串丁一一一一</w> 丐丈一一一一一一</w> 一一丂丁一一一一</w> 丈丄一一一一一一</w> 一一丂丁一一一一</w> 乀丠乒丁一一一一</w> 一一丄丂一一一一</w> 一一丄丂一一一一</w> 一亀乀一一一一一</w> 一丈丄一一一一一</w> 一亁一一一一一一</w> 一一丐一一一一一</w> 一一丐一一一一一</w> 一一丠一一一一一</w> 丐丈 乤 丂一一一一</w> </s>\n",
       "y: CategoryList\n",
       "Mozart,Chopin,Schumann,Schumann,Liszt\n",
       "Path: /home/tjtsai/.fastai/data/bscore_lm/bpe_data;\n",
       "\n",
       "Valid: LabelList (10800 items)\n",
       "x: TextList\n",
       "<s> 一一丈一一丠一一</w> 一一一亀一一一一</w> 一一丐一一乀一一</w> 一一一亀一一一一</w> 一一丠一一丈一一</w> 一一一亀一一一一</w> 一一丠一一丈一一</w> 一一一亀一一一一</w> 一一丠一一丈一一</w> 一一一亀一一一一</w> 一丂一一一丄一一</w> 一丈一一一一一一</w> 一丂一一一丄一一</w> 一丈一一一一一一</w> 一丂一一一丄一一</w> 一丈一一一一一一</w> 一丄一一一丂一一</w> 一乀一一一一一一</w> 一丄一一一丂一一</w> 一乀一一一一一一</w> 一丄一一一丂一一</w> 一乀一一一一一一</w> 一丈一一乀一一一</w> 一丠一一一一一一</w> 一丈一一乀一一一</w> 一丠一一一一一一</w> 一丈一一乀一一一</w> 一丠一一一一一一</w> 一丄一一一一一一</w> 一一一一亀一一一</w> 一一一一一丁一一</w> 一一一一一丂一一</w> 一一一一一丄一一</w> 一一一一一丈一一</w> 一一丈一一一一一</w> 一一一一一丐一一</w> 一丄一一亀一一一</w> 一丈一一一丁一一</w> 一丐一一一丂一一</w> 一丠一一一丄一一</w> 一乀一一一丈一一</w> 一亀一一一丐一一</w> 一乀一一一丂一一</w> 一丠一一一丁一一</w> 一乀一一一丂一一</w> 一亀一一一丄一一</w> 一一丁一一丈一一</w> 一一丂一一丐一一</w> 一乀一一一丈一一</w> 一丐一一一丂一一</w> 一一乀一亀一一一</w> 一一丈一丐一一一</w> 一一丂一丄一一一</w> 一丈一一一一一一</w> 一一一一乐一一一</w> 一一一一丨一一一</w> 一一一一亀丐一一</w> 一一且一丠丄一一</w> 一一丨一丐丂一一</w> 一一一一一丨一一</w> 一一一一一且一一</w> 一一一一一上一一</w> 一且一一一亠一一</w> 一乐一一一丨一一</w> </s>,<s> 一丐丈 一丠丒一一</w> 一一亀両一丂一一</w> 一一亀両一丂一一</w> 一一一一乀丠一一</w> 一一乀丑 亀乂一一</w> 一一乀丑 一丂一一</w> 一一乀両一丂一一</w> 一一一一亀乀一一</w> 一丐丈一一丢一一</w> 一一丠丁一丢一一</w> 一一丠丁 亀 乢一一</w> 一丈丄一亀乒一一</w> 一一丐三一丒一一</w> 一一丐三一丒一一</w> 一一亐丈一云一一</w> 一一亐丈 一丑一一</w> 一一亐丈 一丑一一</w> 一丈丄一一云一一</w> 一一乐丈 一乐一一</w> 一一乐丈 一乐一一</w> 一一一一一云一一</w> 一丄丂一一乀一一</w> 一一乀么 一乐一一</w> 一一乀么 一乒丁一</w> 一一乀义一乐一一</w> 一一一一一丈丄一</w> 一一乀义一乐一一</w> 一一乀义一乐一一</w> 一一一一一丈丄一</w> 一一乀义一乐一一</w> 一一乀义一乐一一</w> 一一一一一丈丄一</w> 一一乀义一乐一一</w> 一一一一一予丄一</w> 一丄丂一一丐一一</w> 一一亠 丨一亐一一</w> 一一亠 丨一亐一一</w> 一一一一一丄丂一</w> 一丠丐一一丒丁一</w> 一一一一一亁一一</w> 一一一一丠丐一一</w> 一一丢 一丨丄一一</w> 一一一一且丂一一</w> 一一一一丂丁一一</w> 一一乁一予丄一一</w> 丠丐一一亁一一一</w> 一一丄一一一一一</w> 一一一一丂丁一一</w> 丠丐 乂一亄丂一一</w> 丠丐一一一一一一</w> 丠丐一一一一一一</w> 亀乀 乂一亄丂一一</w> 乀丠一一亁一一一</w> 一一一一丄一一一</w> 丠丐一亀乀一一一</w> 一一一一亀一一一</w> 一乀丐一丢丁一一</w> 丐丈一乀丠一一一</w> 一一丁一一一一一</w> 一一一亀乀一一一</w> 丐予 丐 一亡一一一</w> 丄丂一一一一一一</w> 丈丄 丈一丐一一一</w> 丐予 丈 一云一一一</w> </s>,<s> 一一一一丂一一一</w> 一一两一丄一一一</w> 一丐一一一一一一</w> 一丒一一一一一一</w> 一一一一丂一一一</w> 一一两一丂一一一</w> 一一一一丄一一一</w> 一一丢一丈一一一</w> 丐丐一一一一一一</w> 一丂一一一一一一</w> 一一丢一一一一一</w> 一丐一一丈一一一</w> 一丂一一亀丂一一</w> 一一一一乄丂一一</w> 一一一一丂一一一</w> 一一両一丄一一一</w> 一丒 両 一丄一一一</w> 一一一一丈一一一</w> 一一両一丄一一一</w> 一一一一丈一一一</w> 一一丠一丄一一一</w> 一一一一丈一一一</w> 一一丠一丄一一一</w> 一一一一丈一一一</w> 一一乂一丐一一一</w> 丠一一一一一一一</w> 一丁一一一一一一</w> 一丐一一一一一一</w> 一一丂一一一一一</w> 一一乀一一一一一</w> 一一一一乀一一一</w> 一一一一乀一一一</w> 一一一一丠一一一</w> 一一一一丠一一一</w> 一一一一丐一一一</w> 一一一一丈一一一</w> 一一丠丂丑一一一</w> 亀乀一一丂一一一</w> 一一一一一丄一一</w> 一一一一一丁一一</w> 亀乀一一丂一一一</w> 丠丐 一一丄丁一一</w> 一一一一一丁一一</w> 一一一一乀一一一</w> 丠一一一丄一一一</w> 一亐丠 一丄丁一一</w> 一一一一一丂一一</w> 一一一一一乁一一</w> 一一丠一亀一一一</w> 一一乀一一一一一</w> 一一丐一一一一一</w> 一亐丐一丄一一一</w> 一一一一丄一一一</w> 一亐丈 一乀一一一</w> 一一一一亀一一一</w> 一一一一亀一一一</w> 一一一一丠一一一</w> 一一一一丠一一一</w> 一一丄一一一一一</w> 一亐丄 一丄一一一</w> 一一丈一丐一一一</w> 亀乀一一乀一一一</w> 一一一一一亀一一</w> 一一一一一丠一一</w> </s>,<s> 一一一丂丠丁一一</w> 一一一一一丁一一</w> 一一一一一丁一一</w> 一一丄一一丁一一</w> 一一亀一一一一一</w> 一一丄一一一一一</w> 一一亀一亀一一一</w> 一一丄一乀一一一</w> 一一亀一丠一一一</w> 一一丈一丠一一一</w> 一一亀一一一一一</w> 一一丈一乀一一一</w> 一一亀一一一一一</w> 一一丠一一亀一一</w> 一一亀一一一一一</w> 一一一一一亀一一</w> 一一丄一一亁一一</w> 一一亀一一一一一</w> 一一丄一一一一一</w> 一一亀一一丂丁一</w> 一一丄一一亁一一</w> 一一亀一亀乀一一</w> 一一丈乀一一一一</w> 一一丈一亀乀一一</w> 一一亀一一一一一</w> 一一丈一乀丠一一</w> 一一亀一一一一一</w> 一一丠一一丁一一</w> 一一亀一一一一一</w> 一一一一一丁一一</w> 一一丄一一丁一一</w> 一一亀一一一一一</w> 一一丄一一一一一</w> 一一亀一一丂一一</w> 一一一一一丁一一</w> 一一丄一一丁一一</w> 一一一一亀一一一</w> 一一亀一乀一一一</w> 一一一一丠一一一</w> 一一丈一丠一一一</w> 一一亀一一一一一</w> 一一丈一乀一一一</w> 一一亀一一一一一</w> 一一丠一一亁一一</w> 一一亀一一一一一</w> 一一一一一亁一一</w> 一一丄一一亁一一</w> 一一亀一一一一一</w> 一一丄一一一一一</w> 一一亀一丠丐一一</w> 一一丄一乀丠一一</w> 一一亀一亀乀一一</w> 一一丈一亀乀一一</w> 一一亀一一一一一</w> 一一丈一乀丠一一</w> 一一亀一一一一一</w> 一一一丐一丠一一</w> 一一亀一一丈一一</w> 一一丈一丂一一一</w> 一一丠一一丁一一</w> 一一亀一一一一一</w> 一一一丄一一一一</w> 一一一丂乀一一一</w> 一一一丁亀一一一</w> </s>,<s> 一一一一一乀一一</w> 一一三 丢 一丐丂一</w> 一一一一亀一一一</w> 一一一一一丐丈一</w> 一一一一一一丂一</w> 一丒一一一一一一</w> 一一一一一丐一一</w> 一一两丂丠丂一一</w> 一一一一一亁一一</w> 一一一一亀一一一</w> 一一两 丂丠丄一一</w> 一丑一一亀一一一</w> 一一一一一丠一一</w> 一一一一一丐一一</w> 一丒两丂一一一一</w> 一一一一一乀一一</w> 一一一一丄丐一一</w> 一一一一丁一一一</w> 一一一一丈丐一一</w> 一一一一一丐一一</w> 一一一一丠丄一一</w> 一一一一丈一一一</w> 一丑 两一一一一一</w> 一一一一一丐一一</w> 一一丠一丠丂一一</w> 一一丠一一丁一一</w> 一一一一亀一一一</w> 一么丐 一一丄一一</w> 一么一一一一一一</w> 一一亀一一一一一</w> 一丒两丂一一一一</w> 一一一一一丐一一</w> 一一丠一丠丂一一</w> 一一丠一一丁一一</w> 一一一一亀一一一</w> 一么丐 一亠丄一一</w> 一么 乐一一一一一</w> 一一亀一一一一一</w> 一一一一乀一一一</w> 一丒两丂一一一一</w> 一么一一一一一一</w> 一一亀一一一一一</w> 一丒两丂一一一一</w> 一么 乐一一一一一</w> 一一亀一一一一一</w> 一丒 一一丠丈一一</w> 一一一一一丐一一</w> 一一两一一丈一一</w> 一一乄一一丄一一</w> 一一丠一一一一一</w> 一丒两 一丠丄一一</w> 一一一一一丈一一</w> 一一两一一丂一一</w> 一丒乄 一丠丂一一</w> 一一丠一一一一一</w> 一一两 一丠丂一一</w> 一一一一一丄一一</w> 一一丠一一丁一一</w> 一丒乄 一一丁一一</w> 一一丠一一一一一</w> 一丒 丂亀 一丁一一</w> 一一一一一丂一一</w> 一一丂一亁一一一</w> 一一丄一乀一一一</w> </s>\n",
       "y: CategoryList\n",
       "Haydn,Scriabin,Scriabin,Schubert,Scriabin\n",
       "Path: /home/tjtsai/.fastai/data/bscore_lm/bpe_data;\n",
       "\n",
       "Test: None, model=CustomTransformerModel(\n",
       "  (transformer): RobertaForSequenceClassification(\n",
       "    (roberta): RobertaModel(\n",
       "      (embeddings): RobertaEmbeddings(\n",
       "        (word_embeddings): Embedding(30000, 768, padding_idx=1)\n",
       "        (position_embeddings): Embedding(258, 768, padding_idx=1)\n",
       "        (token_type_embeddings): Embedding(1, 768)\n",
       "        (LayerNorm): LayerNorm((768,), eps=1e-05, elementwise_affine=True)\n",
       "        (dropout): Dropout(p=0.1, inplace=False)\n",
       "      )\n",
       "      (encoder): BertEncoder(\n",
       "        (layer): ModuleList(\n",
       "          (0): BertLayer(\n",
       "            (attention): BertAttention(\n",
       "              (self): BertSelfAttention(\n",
       "                (query): Linear(in_features=768, out_features=768, bias=True)\n",
       "                (key): Linear(in_features=768, out_features=768, bias=True)\n",
       "                (value): Linear(in_features=768, out_features=768, bias=True)\n",
       "                (dropout): Dropout(p=0.1, inplace=False)\n",
       "              )\n",
       "              (output): BertSelfOutput(\n",
       "                (dense): Linear(in_features=768, out_features=768, bias=True)\n",
       "                (LayerNorm): LayerNorm((768,), eps=1e-05, elementwise_affine=True)\n",
       "                (dropout): Dropout(p=0.1, inplace=False)\n",
       "              )\n",
       "            )\n",
       "            (intermediate): BertIntermediate(\n",
       "              (dense): Linear(in_features=768, out_features=3072, bias=True)\n",
       "            )\n",
       "            (output): BertOutput(\n",
       "              (dense): Linear(in_features=3072, out_features=768, bias=True)\n",
       "              (LayerNorm): LayerNorm((768,), eps=1e-05, elementwise_affine=True)\n",
       "              (dropout): Dropout(p=0.1, inplace=False)\n",
       "            )\n",
       "          )\n",
       "          (1): BertLayer(\n",
       "            (attention): BertAttention(\n",
       "              (self): BertSelfAttention(\n",
       "                (query): Linear(in_features=768, out_features=768, bias=True)\n",
       "                (key): Linear(in_features=768, out_features=768, bias=True)\n",
       "                (value): Linear(in_features=768, out_features=768, bias=True)\n",
       "                (dropout): Dropout(p=0.1, inplace=False)\n",
       "              )\n",
       "              (output): BertSelfOutput(\n",
       "                (dense): Linear(in_features=768, out_features=768, bias=True)\n",
       "                (LayerNorm): LayerNorm((768,), eps=1e-05, elementwise_affine=True)\n",
       "                (dropout): Dropout(p=0.1, inplace=False)\n",
       "              )\n",
       "            )\n",
       "            (intermediate): BertIntermediate(\n",
       "              (dense): Linear(in_features=768, out_features=3072, bias=True)\n",
       "            )\n",
       "            (output): BertOutput(\n",
       "              (dense): Linear(in_features=3072, out_features=768, bias=True)\n",
       "              (LayerNorm): LayerNorm((768,), eps=1e-05, elementwise_affine=True)\n",
       "              (dropout): Dropout(p=0.1, inplace=False)\n",
       "            )\n",
       "          )\n",
       "          (2): BertLayer(\n",
       "            (attention): BertAttention(\n",
       "              (self): BertSelfAttention(\n",
       "                (query): Linear(in_features=768, out_features=768, bias=True)\n",
       "                (key): Linear(in_features=768, out_features=768, bias=True)\n",
       "                (value): Linear(in_features=768, out_features=768, bias=True)\n",
       "                (dropout): Dropout(p=0.1, inplace=False)\n",
       "              )\n",
       "              (output): BertSelfOutput(\n",
       "                (dense): Linear(in_features=768, out_features=768, bias=True)\n",
       "                (LayerNorm): LayerNorm((768,), eps=1e-05, elementwise_affine=True)\n",
       "                (dropout): Dropout(p=0.1, inplace=False)\n",
       "              )\n",
       "            )\n",
       "            (intermediate): BertIntermediate(\n",
       "              (dense): Linear(in_features=768, out_features=3072, bias=True)\n",
       "            )\n",
       "            (output): BertOutput(\n",
       "              (dense): Linear(in_features=3072, out_features=768, bias=True)\n",
       "              (LayerNorm): LayerNorm((768,), eps=1e-05, elementwise_affine=True)\n",
       "              (dropout): Dropout(p=0.1, inplace=False)\n",
       "            )\n",
       "          )\n",
       "          (3): BertLayer(\n",
       "            (attention): BertAttention(\n",
       "              (self): BertSelfAttention(\n",
       "                (query): Linear(in_features=768, out_features=768, bias=True)\n",
       "                (key): Linear(in_features=768, out_features=768, bias=True)\n",
       "                (value): Linear(in_features=768, out_features=768, bias=True)\n",
       "                (dropout): Dropout(p=0.1, inplace=False)\n",
       "              )\n",
       "              (output): BertSelfOutput(\n",
       "                (dense): Linear(in_features=768, out_features=768, bias=True)\n",
       "                (LayerNorm): LayerNorm((768,), eps=1e-05, elementwise_affine=True)\n",
       "                (dropout): Dropout(p=0.1, inplace=False)\n",
       "              )\n",
       "            )\n",
       "            (intermediate): BertIntermediate(\n",
       "              (dense): Linear(in_features=768, out_features=3072, bias=True)\n",
       "            )\n",
       "            (output): BertOutput(\n",
       "              (dense): Linear(in_features=3072, out_features=768, bias=True)\n",
       "              (LayerNorm): LayerNorm((768,), eps=1e-05, elementwise_affine=True)\n",
       "              (dropout): Dropout(p=0.1, inplace=False)\n",
       "            )\n",
       "          )\n",
       "          (4): BertLayer(\n",
       "            (attention): BertAttention(\n",
       "              (self): BertSelfAttention(\n",
       "                (query): Linear(in_features=768, out_features=768, bias=True)\n",
       "                (key): Linear(in_features=768, out_features=768, bias=True)\n",
       "                (value): Linear(in_features=768, out_features=768, bias=True)\n",
       "                (dropout): Dropout(p=0.1, inplace=False)\n",
       "              )\n",
       "              (output): BertSelfOutput(\n",
       "                (dense): Linear(in_features=768, out_features=768, bias=True)\n",
       "                (LayerNorm): LayerNorm((768,), eps=1e-05, elementwise_affine=True)\n",
       "                (dropout): Dropout(p=0.1, inplace=False)\n",
       "              )\n",
       "            )\n",
       "            (intermediate): BertIntermediate(\n",
       "              (dense): Linear(in_features=768, out_features=3072, bias=True)\n",
       "            )\n",
       "            (output): BertOutput(\n",
       "              (dense): Linear(in_features=3072, out_features=768, bias=True)\n",
       "              (LayerNorm): LayerNorm((768,), eps=1e-05, elementwise_affine=True)\n",
       "              (dropout): Dropout(p=0.1, inplace=False)\n",
       "            )\n",
       "          )\n",
       "          (5): BertLayer(\n",
       "            (attention): BertAttention(\n",
       "              (self): BertSelfAttention(\n",
       "                (query): Linear(in_features=768, out_features=768, bias=True)\n",
       "                (key): Linear(in_features=768, out_features=768, bias=True)\n",
       "                (value): Linear(in_features=768, out_features=768, bias=True)\n",
       "                (dropout): Dropout(p=0.1, inplace=False)\n",
       "              )\n",
       "              (output): BertSelfOutput(\n",
       "                (dense): Linear(in_features=768, out_features=768, bias=True)\n",
       "                (LayerNorm): LayerNorm((768,), eps=1e-05, elementwise_affine=True)\n",
       "                (dropout): Dropout(p=0.1, inplace=False)\n",
       "              )\n",
       "            )\n",
       "            (intermediate): BertIntermediate(\n",
       "              (dense): Linear(in_features=768, out_features=3072, bias=True)\n",
       "            )\n",
       "            (output): BertOutput(\n",
       "              (dense): Linear(in_features=3072, out_features=768, bias=True)\n",
       "              (LayerNorm): LayerNorm((768,), eps=1e-05, elementwise_affine=True)\n",
       "              (dropout): Dropout(p=0.1, inplace=False)\n",
       "            )\n",
       "          )\n",
       "        )\n",
       "      )\n",
       "      (pooler): BertPooler(\n",
       "        (dense): Linear(in_features=768, out_features=768, bias=True)\n",
       "        (activation): Tanh()\n",
       "      )\n",
       "    )\n",
       "    (classifier): RobertaClassificationHead(\n",
       "      (dense): Linear(in_features=768, out_features=768, bias=True)\n",
       "      (dropout): Dropout(p=0.1, inplace=False)\n",
       "      (out_proj): Linear(in_features=768, out_features=9, bias=True)\n",
       "    )\n",
       "  )\n",
       "), opt_func=functools.partial(<class 'torch.optim.adam.Adam'>, betas=(0.9, 0.99)), loss_func=FlattenedLoss of CrossEntropyLoss(), metrics=[<function accuracy at 0x7f565c138290>], true_wd=True, bn_wd=True, wd=0.01, train_bn=True, path=PosixPath('/home/tjtsai/.fastai/data/bscore_lm/bpe_data'), model_dir='models', callback_fns=[functools.partial(<class 'fastai.basic_train.Recorder'>, add_time=True, silent=False)], callbacks=[], layer_groups=[Sequential(\n",
       "  (0): Embedding(30000, 768, padding_idx=1)\n",
       "  (1): Embedding(258, 768, padding_idx=1)\n",
       "  (2): Embedding(1, 768)\n",
       "  (3): LayerNorm((768,), eps=1e-05, elementwise_affine=True)\n",
       "  (4): Dropout(p=0.1, inplace=False)\n",
       "), Sequential(\n",
       "  (0): Linear(in_features=768, out_features=768, bias=True)\n",
       "  (1): Linear(in_features=768, out_features=768, bias=True)\n",
       "  (2): Linear(in_features=768, out_features=768, bias=True)\n",
       "  (3): Dropout(p=0.1, inplace=False)\n",
       "  (4): Linear(in_features=768, out_features=768, bias=True)\n",
       "  (5): LayerNorm((768,), eps=1e-05, elementwise_affine=True)\n",
       "  (6): Dropout(p=0.1, inplace=False)\n",
       "  (7): Linear(in_features=768, out_features=3072, bias=True)\n",
       "  (8): Linear(in_features=3072, out_features=768, bias=True)\n",
       "  (9): LayerNorm((768,), eps=1e-05, elementwise_affine=True)\n",
       "  (10): Dropout(p=0.1, inplace=False)\n",
       "), Sequential(\n",
       "  (0): Linear(in_features=768, out_features=768, bias=True)\n",
       "  (1): Linear(in_features=768, out_features=768, bias=True)\n",
       "  (2): Linear(in_features=768, out_features=768, bias=True)\n",
       "  (3): Dropout(p=0.1, inplace=False)\n",
       "  (4): Linear(in_features=768, out_features=768, bias=True)\n",
       "  (5): LayerNorm((768,), eps=1e-05, elementwise_affine=True)\n",
       "  (6): Dropout(p=0.1, inplace=False)\n",
       "  (7): Linear(in_features=768, out_features=3072, bias=True)\n",
       "  (8): Linear(in_features=3072, out_features=768, bias=True)\n",
       "  (9): LayerNorm((768,), eps=1e-05, elementwise_affine=True)\n",
       "  (10): Dropout(p=0.1, inplace=False)\n",
       "), Sequential(\n",
       "  (0): Linear(in_features=768, out_features=768, bias=True)\n",
       "  (1): Linear(in_features=768, out_features=768, bias=True)\n",
       "  (2): Linear(in_features=768, out_features=768, bias=True)\n",
       "  (3): Dropout(p=0.1, inplace=False)\n",
       "  (4): Linear(in_features=768, out_features=768, bias=True)\n",
       "  (5): LayerNorm((768,), eps=1e-05, elementwise_affine=True)\n",
       "  (6): Dropout(p=0.1, inplace=False)\n",
       "  (7): Linear(in_features=768, out_features=3072, bias=True)\n",
       "  (8): Linear(in_features=3072, out_features=768, bias=True)\n",
       "  (9): LayerNorm((768,), eps=1e-05, elementwise_affine=True)\n",
       "  (10): Dropout(p=0.1, inplace=False)\n",
       "), Sequential(\n",
       "  (0): Linear(in_features=768, out_features=768, bias=True)\n",
       "  (1): Linear(in_features=768, out_features=768, bias=True)\n",
       "  (2): Linear(in_features=768, out_features=768, bias=True)\n",
       "  (3): Dropout(p=0.1, inplace=False)\n",
       "  (4): Linear(in_features=768, out_features=768, bias=True)\n",
       "  (5): LayerNorm((768,), eps=1e-05, elementwise_affine=True)\n",
       "  (6): Dropout(p=0.1, inplace=False)\n",
       "  (7): Linear(in_features=768, out_features=3072, bias=True)\n",
       "  (8): Linear(in_features=3072, out_features=768, bias=True)\n",
       "  (9): LayerNorm((768,), eps=1e-05, elementwise_affine=True)\n",
       "  (10): Dropout(p=0.1, inplace=False)\n",
       "), Sequential(\n",
       "  (0): Linear(in_features=768, out_features=768, bias=True)\n",
       "  (1): Linear(in_features=768, out_features=768, bias=True)\n",
       "  (2): Linear(in_features=768, out_features=768, bias=True)\n",
       "  (3): Dropout(p=0.1, inplace=False)\n",
       "  (4): Linear(in_features=768, out_features=768, bias=True)\n",
       "  (5): LayerNorm((768,), eps=1e-05, elementwise_affine=True)\n",
       "  (6): Dropout(p=0.1, inplace=False)\n",
       "  (7): Linear(in_features=768, out_features=3072, bias=True)\n",
       "  (8): Linear(in_features=3072, out_features=768, bias=True)\n",
       "  (9): LayerNorm((768,), eps=1e-05, elementwise_affine=True)\n",
       "  (10): Dropout(p=0.1, inplace=False)\n",
       "), Sequential(\n",
       "  (0): Linear(in_features=768, out_features=768, bias=True)\n",
       "  (1): Linear(in_features=768, out_features=768, bias=True)\n",
       "  (2): Linear(in_features=768, out_features=768, bias=True)\n",
       "  (3): Dropout(p=0.1, inplace=False)\n",
       "  (4): Linear(in_features=768, out_features=768, bias=True)\n",
       "  (5): LayerNorm((768,), eps=1e-05, elementwise_affine=True)\n",
       "  (6): Dropout(p=0.1, inplace=False)\n",
       "  (7): Linear(in_features=768, out_features=3072, bias=True)\n",
       "  (8): Linear(in_features=3072, out_features=768, bias=True)\n",
       "  (9): LayerNorm((768,), eps=1e-05, elementwise_affine=True)\n",
       "  (10): Dropout(p=0.1, inplace=False)\n",
       "), Sequential(\n",
       "  (0): Linear(in_features=768, out_features=768, bias=True)\n",
       "  (1): Tanh()\n",
       "  (2): Linear(in_features=768, out_features=768, bias=True)\n",
       "  (3): Dropout(p=0.1, inplace=False)\n",
       "  (4): Linear(in_features=768, out_features=9, bias=True)\n",
       ")], add_time=True, silent=False)"
      ]
     },
     "execution_count": 63,
     "metadata": {},
     "output_type": "execute_result"
    }
   ],
   "source": [
    "#learner.save('roberta_train-target_clas')\n",
    "#learner.load('roberta_train-target_clas')"
   ]
  },
  {
   "cell_type": "markdown",
   "metadata": {},
   "source": [
    "### Evaluate Classifier"
   ]
  },
  {
   "cell_type": "markdown",
   "metadata": {},
   "source": [
    "Evaluate on the proxy task -- classifying fixed-length chunks of bootleg score features."
   ]
  },
  {
   "cell_type": "code",
   "execution_count": 36,
   "metadata": {},
   "outputs": [
    {
     "data": {
      "text/html": [],
      "text/plain": [
       "<IPython.core.display.HTML object>"
      ]
     },
     "metadata": {},
     "output_type": "display_data"
    },
    {
     "data": {
      "text/html": [],
      "text/plain": [
       "<IPython.core.display.HTML object>"
      ]
     },
     "metadata": {},
     "output_type": "display_data"
    }
   ],
   "source": [
    "data_clas_test = TextDataBunch.from_df(bpe_path, train_df, test_df, tokenizer=cust_tok, vocab=transformer_vocab,\n",
    "                                  include_bos=False, include_eos=False, pad_first=False, pad_idx=pad_idx, \n",
    "                                  bs=bs, num_workers=1)"
   ]
  },
  {
   "cell_type": "code",
   "execution_count": 37,
   "metadata": {},
   "outputs": [
    {
     "data": {
      "text/html": [],
      "text/plain": [
       "<IPython.core.display.HTML object>"
      ]
     },
     "metadata": {},
     "output_type": "display_data"
    },
    {
     "data": {
      "text/plain": [
       "[1.6577404, tensor(0.3919)]"
      ]
     },
     "execution_count": 37,
     "metadata": {},
     "output_type": "execute_result"
    }
   ],
   "source": [
    "learner.validate(data_clas_test.valid_dl)"
   ]
  },
  {
   "cell_type": "markdown",
   "metadata": {},
   "source": [
    "Evaluate on the original task -- classifying pages of sheet music.  We can evaluate our models in two ways:\n",
    "- applying the model to a variable length sequence\n",
    "- applying the model to multiple fixed-length windows and averaging the predictions\n",
    "\n",
    "First we evaluate the model on variable length inputs.  Report results with and without applying priors."
   ]
  },
  {
   "cell_type": "code",
   "execution_count": 38,
   "metadata": {},
   "outputs": [],
   "source": [
    "train_fullpage_df = pd.read_csv(bpe_path/'train.fullpage.char.csv')\n",
    "valid_fullpage_df = pd.read_csv(bpe_path/'valid.fullpage.char.csv')\n",
    "test_fullpage_df = pd.read_csv(bpe_path/'test.fullpage.char.csv')"
   ]
  },
  {
   "cell_type": "code",
   "execution_count": 39,
   "metadata": {},
   "outputs": [
    {
     "data": {
      "text/html": [],
      "text/plain": [
       "<IPython.core.display.HTML object>"
      ]
     },
     "metadata": {},
     "output_type": "display_data"
    },
    {
     "data": {
      "text/html": [],
      "text/plain": [
       "<IPython.core.display.HTML object>"
      ]
     },
     "metadata": {},
     "output_type": "display_data"
    },
    {
     "data": {
      "text/html": [],
      "text/plain": [
       "<IPython.core.display.HTML object>"
      ]
     },
     "metadata": {},
     "output_type": "display_data"
    }
   ],
   "source": [
    "data_clas_test = TextDataBunch.from_df(bpe_path, train_fullpage_df, valid_fullpage_df, test_fullpage_df,\n",
    "                                       tokenizer=cust_tok, vocab=transformer_vocab, include_bos=False, \n",
    "                                       include_eos=False, pad_first=False, pad_idx=pad_idx, bs=bs, num_workers=1)"
   ]
  },
  {
   "cell_type": "code",
   "execution_count": 40,
   "metadata": {},
   "outputs": [
    {
     "data": {
      "text/html": [],
      "text/plain": [
       "<IPython.core.display.HTML object>"
      ]
     },
     "metadata": {},
     "output_type": "display_data"
    },
    {
     "data": {
      "text/plain": [
       "(0.4639570415019989, 0.5076687335968018)"
      ]
     },
     "execution_count": 40,
     "metadata": {},
     "output_type": "execute_result"
    }
   ],
   "source": [
    "acc, acc_with_prior = eval_models.calcAccuracy_fullpage(learner, bpe_path, train_fullpage_df, valid_fullpage_df, test_fullpage_df, databunch=data_clas_test)\n",
    "acc, acc_with_prior"
   ]
  },
  {
   "cell_type": "markdown",
   "metadata": {},
   "source": [
    "Now we evaluate the model by considering multiple fixed-length windows and averaging the predictions."
   ]
  },
  {
   "cell_type": "code",
   "execution_count": 41,
   "metadata": {},
   "outputs": [],
   "source": [
    "test_ensemble_df = pd.read_csv(bpe_path/'test.ensemble64.char.csv')"
   ]
  },
  {
   "cell_type": "code",
   "execution_count": 42,
   "metadata": {},
   "outputs": [
    {
     "data": {
      "text/html": [],
      "text/plain": [
       "<IPython.core.display.HTML object>"
      ]
     },
     "metadata": {},
     "output_type": "display_data"
    },
    {
     "data": {
      "text/html": [],
      "text/plain": [
       "<IPython.core.display.HTML object>"
      ]
     },
     "metadata": {},
     "output_type": "display_data"
    },
    {
     "data": {
      "text/html": [],
      "text/plain": [
       "<IPython.core.display.HTML object>"
      ]
     },
     "metadata": {},
     "output_type": "display_data"
    }
   ],
   "source": [
    "data_clas_test = TextDataBunch.from_df(bpe_path, train_fullpage_df, valid_fullpage_df, test_ensemble_df,\n",
    "                                       text_cols = 'text', label_cols = 'label', tokenizer=cust_tok, \n",
    "                                       vocab=transformer_vocab, include_bos=False, include_eos=False, \n",
    "                                       pad_first=False, pad_idx=pad_idx, bs=bs, num_workers=1)"
   ]
  },
  {
   "cell_type": "code",
   "execution_count": 43,
   "metadata": {},
   "outputs": [
    {
     "data": {
      "text/html": [],
      "text/plain": [
       "<IPython.core.display.HTML object>"
      ]
     },
     "metadata": {},
     "output_type": "display_data"
    },
    {
     "data": {
      "text/plain": [
       "(0.48542943596839905, 0.4877300560474396)"
      ]
     },
     "execution_count": 43,
     "metadata": {},
     "output_type": "execute_result"
    }
   ],
   "source": [
    "acc, acc_with_prior = eval_models.calcAccuracy_fullpage(learner, bpe_path, train_fullpage_df, valid_fullpage_df, test_ensemble_df, databunch=data_clas_test, ensembled=True)\n",
    "acc, acc_with_prior"
   ]
  },
  {
   "cell_type": "markdown",
   "metadata": {},
   "source": [
    "### Error Analysis"
   ]
  },
  {
   "cell_type": "code",
   "execution_count": 44,
   "metadata": {},
   "outputs": [
    {
     "data": {
      "text/html": [],
      "text/plain": [
       "<IPython.core.display.HTML object>"
      ]
     },
     "metadata": {},
     "output_type": "display_data"
    }
   ],
   "source": [
    "interp = ClassificationInterpretation.from_learner(learner)"
   ]
  },
  {
   "cell_type": "code",
   "execution_count": 45,
   "metadata": {},
   "outputs": [
    {
     "data": {
      "image/png": "[encoded data removed]",
      "text/plain": [
       "<Figure size 864x864 with 1 Axes>"
      ]
     },
     "metadata": {
      "needs_background": "light"
     },
     "output_type": "display_data"
    }
   ],
   "source": [
    "interp.plot_confusion_matrix(figsize=(12,12))"
   ]
  },
  {
   "cell_type": "code",
   "execution_count": null,
   "metadata": {},
   "outputs": [],
   "source": []
  }
 ],
 "metadata": {
  "kernelspec": {
   "display_name": "PianoStyleEmbedding",
   "language": "python",
   "name": "pianostyleembedding"
  },
  "language_info": {
   "codemirror_mode": {
    "name": "ipython",
    "version": 3
   },
   "file_extension": ".py",
   "mimetype": "text/x-python",
   "name": "python",
   "nbconvert_exporter": "python",
   "pygments_lexer": "ipython3",
   "version": "3.7.4"
  },
  "toc": {
   "base_numbering": 1,
   "nav_menu": {},
   "number_sections": false,
   "sideBar": true,
   "skip_h1_title": true,
   "title_cell": "Table of Contents",
   "title_sidebar": "Contents",
   "toc_cell": false,
   "toc_position": {},
   "toc_section_display": true,
   "toc_window_display": false
  }
 },
 "nbformat": 4,
 "nbformat_minor": 2
}
